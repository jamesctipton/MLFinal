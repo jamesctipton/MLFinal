{
 "cells": [
  {
   "cell_type": "markdown",
   "id": "f70fdf28",
   "metadata": {},
   "source": [
    "# Analyzing Political Tweets on a Depression Prediction ML Model\n",
    "### Sam Spell, James Tipton\n",
    "\n",
    "Political rhetoric and discussions have seemingly become more polarized recently. In history and while reaching adulthood, being able to vote and be a part of politics is a very important role in a stable and healthy society. This project aims to use machine learning to develop a model to predict depression based on a string of text from twitter. Once this model is developed, it can be used to conduct an analysis on political messages sent online. We will be able to draw out patterns in twitter texts that the machine learning model classifies as showing signs of Depression. Another goal of this machine learning model is to extract patterns of text that can be connected to patterns of political messaging if they exist, and to compare this to a temporal aspect. With the changing view on polarized politics, it will be interesting to test if there is a change in the prevalence of messages classified with “depression” throughout different political times.\n",
    "\n",
    "\n",
    "#### Step 1: Clean the datasets to prepare for the model\n",
    "Import libraries"
   ]
  },
  {
   "cell_type": "code",
   "execution_count": 7,
   "id": "95f00ff1",
   "metadata": {},
   "outputs": [],
   "source": [
    "\n",
    "\n",
    "import pandas as pd\n",
    "from sklearn.model_selection import train_test_split\n",
    "from sklearn.feature_extraction.text import TfidfVectorizer\n",
    "from sklearn.svm import SVC\n",
    "from sklearn.metrics import accuracy_score, precision_score, recall_score, f1_score\n",
    "\n",
    "import numpy as np\n",
    "from numpy import savetxt\n",
    "import matplotlib.pyplot as plt\n",
    "import seaborn as sns\n",
    "from sklearn import svm\n",
    "import nltk\n",
    "from nltk.corpus import stopwords, wordnet\n",
    "from nltk.stem import PorterStemmer, WordNetLemmatizer\n"
   ]
  },
  {
   "cell_type": "code",
   "execution_count": 8,
   "id": "2f020bba",
   "metadata": {},
   "outputs": [],
   "source": [
    "\n",
    "# isolate text column of dataset\n",
    "d = pd.read_csv(\"depression.csv\")\n",
    "p = pd.read_csv(\"COVIDSenti.csv\")\n",
    "#comb = p[\"Title\"].fillna('') +  ' ' + p['Text'].fillna('')\n",
    "#comb2 = comb\n",
    "text = d[\"clean_text\"]\n",
    "review = p['tweet']\n",
    "review_origin = review\n",
    "\n",
    "# determine stopwords\n",
    "stop_words = set(stopwords.words('english'))\n",
    "\n",
    "# define function to remove stopwords\n",
    "def remove_stopwords(text):\n",
    "    tokens = nltk.word_tokenize(text)\n",
    "    filtered_tokens = [word for word in tokens if word.lower() not in stop_words]\n",
    "    filtered_text = \" \".join(filtered_tokens)\n",
    "    return filtered_text\n",
    "\n",
    "text = text.apply(remove_stopwords)\n",
    "review = review.apply(remove_stopwords)\n",
    "#comb = comb.apply(remove_stopwords)\n",
    "\n",
    "#lemmatize and stem each reddit post in the dataset\n",
    "\n",
    "lemmatizer = WordNetLemmatizer()\n",
    "\n",
    "def lemmatize_text(text):\n",
    "    tokens = nltk.word_tokenize(text)\n",
    "    lemmatized_tokens = [lemmatizer.lemmatize(token) for token in tokens]\n",
    "    lemmatized_text = \" \".join(lemmatized_tokens)\n",
    "    return lemmatized_text\n",
    "\n",
    "text = text.apply(lemmatize_text)\n",
    "review = review.apply(lemmatize_text)\n",
    "\n",
    "stemmer = PorterStemmer()\n",
    "\n",
    "def stem_text(text):\n",
    "    tokens = nltk.word_tokenize(text)\n",
    "    stemmed_tokens = [stemmer.stem(token) for token in tokens]\n",
    "    stemmed_text = \" \".join(stemmed_tokens)\n",
    "    return stemmed_text\n",
    "\n",
    "text = text.apply(stem_text)\n",
    "review = review.apply(stem_text)\n",
    "#print(comb.head())\n",
    "#print(comb2.head())\n",
    "\n",
    "#cleaned text\n"
   ]
  },
  {
   "cell_type": "code",
   "execution_count": 9,
   "id": "9634e6ad",
   "metadata": {},
   "outputs": [
    {
     "name": "stdout",
     "output_type": "stream",
     "text": [
      "0        coronaviru | human coronaviru type | cdc http ...\n",
      "1        @ shehryar_tas that‚äô üíø true , corona viru...\n",
      "2        tldr : sar , possibl new coronaviru . difficul...\n",
      "3        diseas outbreak news : middl east respiratori ...\n",
      "4        china - media : wsj say sourc tell mysteri pne...\n",
      "                               ...                        \n",
      "89995    @ c_racing48 flu 2 % death rate .. coronaviru ...\n",
      "89996    @ realdonaldtrump alreadi know you‚äôr idiot b...\n",
      "89997    first coronaviru case report st. joseph counti...\n",
      "89998             ate ant child , you‚äôr immun coronaviru\n",
      "89999            coronaviru talk make beat dick hand sanit\n",
      "Name: tweet, Length: 90000, dtype: object\n",
      "0        Coronavirus | Human Coronavirus Types | CDC ht...\n",
      "1        @shehryar_taseer That‚Äôs üíØ true , \\nCorona...\n",
      "2        TLDR: Not SARS, possibly new coronavirus. Diff...\n",
      "3        Disease outbreak news from the WHO: Middle Eas...\n",
      "4        China - Media: WSJ says sources tell them myst...\n",
      "                               ...                        \n",
      "89995    @C_Racing48 The flu has a 2% death rate.. the ...\n",
      "89996    @realDonaldTrump We already know that but you‚...\n",
      "89997    First coronavirus case reported in St. Joseph ...\n",
      "89998    If you ate ants when you were a child, you‚Äôr...\n",
      "89999    All this Coronavirus talk about to make me bea...\n",
      "Name: tweet, Length: 90000, dtype: object\n"
     ]
    }
   ],
   "source": []
  },
  {
   "cell_type": "code",
   "execution_count": 10,
   "id": "05a3618e",
   "metadata": {},
   "outputs": [
    {
     "name": "stdout",
     "output_type": "stream",
     "text": [
      "Accuracy: 0.950626959247649\n",
      "Precision: 0.949085123309467\n",
      "Recall: 0.950597609561753\n",
      "F1 score: 0.9498407643312102\n"
     ]
    }
   ],
   "source": [
    "\n",
    "x_train, x_test, y_train, y_test = train_test_split(text, d['is_depression'], test_size=0.33, random_state=42)\n",
    "\n",
    "# convert phrases into numerical vectors using TF-IDF\n",
    "vectorizer = TfidfVectorizer()\n",
    "x_train = vectorizer.fit_transform(x_train)\n",
    "x_test = vectorizer.transform(x_test)\n",
    "\n",
    "# train SVM model\n",
    "clf = SVC(kernel='linear', C=1.0)\n",
    "clf.fit(x_train, y_train)\n",
    "\n",
    "# evaluate SVM model\n",
    "y_pred = clf.predict(x_test)\n",
    "\n",
    "print('Accuracy:', accuracy_score(y_test, y_pred))\n",
    "print('Precision:', precision_score(y_test, y_pred))\n",
    "print('Recall:', recall_score(y_test, y_pred))\n",
    "print('F1 score:', f1_score(y_test, y_pred))\n",
    "\n"
   ]
  },
  {
   "cell_type": "code",
   "execution_count": 11,
   "id": "e0ed7d94",
   "metadata": {},
   "outputs": [
    {
     "name": "stdout",
     "output_type": "stream",
     "text": [
      "[1 0 0 ... 1 0 1]\n",
      "39.19%\n",
      "90000\n",
      "35269\n"
     ]
    }
   ],
   "source": [
    "\n",
    "\n",
    "#x_new = vectorizer.transform(new_text)\n",
    "x_new = vectorizer.transform(review)\n",
    "y_new_pred = clf.predict(x_new)\n",
    "\n"
   ]
  },
  {
   "cell_type": "code",
   "execution_count": 12,
   "id": "83af87b6",
   "metadata": {},
   "outputs": [
    {
     "name": "stdout",
     "output_type": "stream",
     "text": [
      "neu Count\n",
      "\n",
      "26458 out of 67385\n",
      "39.26%\n",
      "\n",
      "\n",
      "neg Count\n",
      "\n",
      "6408 out of 16335\n",
      "39.23%\n",
      "\n",
      "\n",
      "pos Count\n",
      "\n",
      "2403 out of 6280\n",
      "38.26%\n",
      "\n",
      "\n"
     ]
    },
    {
     "data": {
      "text/plain": [
       "'\\nfor i in range(len(y_new_pred)):\\n    if y_new_pred[i] == 1:\\n        if(p.loc[i,\\'Political Lean\\'] == \"Conservative\"):\\n            conserv_count = conserv_count + 1\\n        elif(p.loc[i,\\'Political Lean\\'] == \"Liberal\"):\\n            liberal_count = liberal_count + 1\\n            '"
      ]
     },
     "execution_count": 12,
     "metadata": {},
     "output_type": "execute_result"
    }
   ],
   "source": [
    "for name in p['label'].unique():\n",
    "    print(str(name) + \" Count\")\n",
    "    count = 0\n",
    "    name_cnt = 0\n",
    "    for i in range(len(y_new_pred)):\n",
    "        if p.iloc[i, 1] == name:\n",
    "            name_cnt += 1\n",
    "            if y_new_pred[i] == 1:\n",
    "                count += 1\n",
    "    print()\n",
    "    print(str(count) + \" out of \" + str(name_cnt))\n",
    "    print(f\"{(count / name_cnt) * 100:.2f}%\")\n",
    "    print()\n",
    "    print()\n",
    "    \n"
   ]
  }
 ],
 "metadata": {
  "kernelspec": {
   "display_name": "Python 3 (ipykernel)",
   "language": "python",
   "name": "python3"
  },
  "language_info": {
   "codemirror_mode": {
    "name": "ipython",
    "version": 3
   },
   "file_extension": ".py",
   "mimetype": "text/x-python",
   "name": "python",
   "nbconvert_exporter": "python",
   "pygments_lexer": "ipython3",
   "version": "3.9.13"
  }
 },
 "nbformat": 4,
 "nbformat_minor": 5
}
