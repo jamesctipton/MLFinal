{
 "cells": [
  {
   "cell_type": "code",
   "execution_count": 1,
   "id": "2a142884",
   "metadata": {},
   "outputs": [],
   "source": [
    "import pandas as pd\n",
    "from sklearn.model_selection import train_test_split\n",
    "from sklearn.feature_extraction.text import TfidfVectorizer\n",
    "from sklearn.svm import SVC\n",
    "from sklearn.metrics import accuracy_score, precision_score, recall_score, f1_score\n",
    "\n",
    "import numpy as np\n",
    "from numpy import savetxt\n",
    "import matplotlib.pyplot as plt\n",
    "import seaborn as sns\n",
    "from sklearn import svm\n",
    "import nltk\n",
    "from nltk.corpus import stopwords, wordnet\n",
    "from nltk.stem import PorterStemmer, WordNetLemmatizer"
   ]
  },
  {
   "cell_type": "code",
   "execution_count": 24,
   "id": "ee404723",
   "metadata": {},
   "outputs": [
    {
     "name": "stdout",
     "output_type": "stream",
     "text": [
      "0    No matter who someone is, how they look like, ...\n",
      "1     Biden speech draws 38.2 million U.S. TV viewers \n",
      "2    State of the union Who watched the state of th...\n",
      "3               We Should Just Give Poor People Money \n",
      "4                                   Do it for the Dew \n",
      "dtype: object\n"
     ]
    }
   ],
   "source": [
    "p = pd.read_csv(\"political.csv\")\n",
    "\n",
    "\n",
    "combined_text = p[\"Title\"].fillna('') +  ' ' + p['Text'].fillna('')\n",
    "\n",
    "print(combined_text.head())"
   ]
  }
 ],
 "metadata": {
  "kernelspec": {
   "display_name": "Python 3 (ipykernel)",
   "language": "python",
   "name": "python3"
  },
  "language_info": {
   "codemirror_mode": {
    "name": "ipython",
    "version": 3
   },
   "file_extension": ".py",
   "mimetype": "text/x-python",
   "name": "python",
   "nbconvert_exporter": "python",
   "pygments_lexer": "ipython3",
   "version": "3.9.13"
  }
 },
 "nbformat": 4,
 "nbformat_minor": 5
}
