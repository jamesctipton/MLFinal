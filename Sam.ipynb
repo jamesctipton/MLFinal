{
 "cells": [
  {
   "cell_type": "markdown",
   "id": "e8945012",
   "metadata": {},
   "source": [
    "# Analyzing Political Tweets on a Depression Prediction ML Model\n",
    "### Sam Spell, James Tipton"
   ]
  },
  {
   "cell_type": "markdown",
   "id": "368f656d",
   "metadata": {},
   "source": [
    "Political rhetoric and discussions have seemingly become more polarized recently. In history and while reaching adulthood, being able to vote and be a part of politics is a very important role in a stable and healthy society. This project aims to use machine learning to develop a model to predict depression based on a string of text from twitter. Once this model is developed, it can be used to conduct an analysis on political messages sent online. We will be able to draw out patterns in twitter texts that the machine learning model classifies as showing signs of Depression. Another goal of this machine learning model is to extract patterns of text that can be connected to patterns of political messaging if they exist, and to compare this to a temporal aspect. With the changing view on polarized politics, it will be interesting to test if there is a change in the prevalence of messages classified with “depression” throughout different political times.\n"
   ]
  },
  {
   "cell_type": "markdown",
   "id": "b5979c49",
   "metadata": {},
   "source": [
    "#### Step 1: Clean the datasets to prepare for the model\n",
    "Import libraries"
   ]
  },
  {
   "cell_type": "code",
   "execution_count": 77,
   "id": "37e48d18",
   "metadata": {},
   "outputs": [],
   "source": [
    "import pandas as pd\n",
    "from sklearn.model_selection import train_test_split\n",
    "from sklearn.feature_extraction.text import TfidfVectorizer\n",
    "from sklearn.svm import SVC\n",
    "from sklearn.metrics import accuracy_score, precision_score, recall_score, f1_score\n",
    "\n",
    "import numpy as np\n",
    "from numpy import savetxt\n",
    "import matplotlib.pyplot as plt\n",
    "import seaborn as sns\n",
    "from sklearn import svm\n",
    "import nltk\n",
    "from nltk.corpus import stopwords, wordnet\n",
    "from nltk.stem import PorterStemmer, WordNetLemmatizer"
   ]
  },
  {
   "cell_type": "markdown",
   "id": "ceb6ce85",
   "metadata": {},
   "source": [
    "run these downloads once"
   ]
  },
  {
   "cell_type": "code",
   "execution_count": 78,
   "id": "55651476",
   "metadata": {},
   "outputs": [],
   "source": [
    "# nltk.download('punkt')\n",
    "# nltk.download('stopwords')\n",
    "# nltk.download('wordnet')\n",
    "# nltk.download('omw-1.4')"
   ]
  },
  {
   "cell_type": "markdown",
   "id": "84be90ef",
   "metadata": {},
   "source": [
    "filter for stopwords"
   ]
  },
  {
   "cell_type": "code",
   "execution_count": 79,
   "id": "576ac5bd",
   "metadata": {},
   "outputs": [],
   "source": [
    "# isolate text column of dataset\n",
    "d = pd.read_csv(\"depression.csv\")\n",
    "p = pd.read_csv(\"political.csv\")\n",
    "comb = p[\"Title\"].fillna('') +  ' ' + p['Text'].fillna('')\n",
    "comb2 = comb\n",
    "text = d[\"clean_text\"]\n",
    "\n",
    "# determine stopwords\n",
    "stop_words = set(stopwords.words('english'))"
   ]
  },
  {
   "cell_type": "code",
   "execution_count": 80,
   "id": "5e1fa2ea",
   "metadata": {},
   "outputs": [],
   "source": [
    "# define function to remove stopwords\n",
    "def remove_stopwords(text):\n",
    "    tokens = nltk.word_tokenize(text)\n",
    "    filtered_tokens = [word for word in tokens if word.lower() not in stop_words]\n",
    "    filtered_text = \" \".join(filtered_tokens)\n",
    "    return filtered_text\n",
    "\n",
    "text = text.apply(remove_stopwords)\n",
    "comb = comb.apply(remove_stopwords)"
   ]
  },
  {
   "cell_type": "markdown",
   "id": "32dbdf50",
   "metadata": {},
   "source": [
    "lemmatize and stem each reddit post in the dataset"
   ]
  },
  {
   "cell_type": "code",
   "execution_count": 81,
   "id": "672c793d",
   "metadata": {},
   "outputs": [],
   "source": [
    "lemmatizer = WordNetLemmatizer()\n",
    "\n",
    "def lemmatize_text(text):\n",
    "    tokens = nltk.word_tokenize(text)\n",
    "    lemmatized_tokens = [lemmatizer.lemmatize(token) for token in tokens]\n",
    "    lemmatized_text = \" \".join(lemmatized_tokens)\n",
    "    return lemmatized_text\n",
    "\n",
    "text = text.apply(lemmatize_text)\n",
    "comb = comb.apply(lemmatize_text)"
   ]
  },
  {
   "cell_type": "code",
   "execution_count": 82,
   "id": "010b185d",
   "metadata": {},
   "outputs": [
    {
     "name": "stdout",
     "output_type": "stream",
     "text": [
      "0    matter someon , look like , languag speak , we...\n",
      "1        biden speech draw 38.2 million u.s. tv viewer\n",
      "2    state union watch state union last night opini...\n",
      "3                                give poor peopl money\n",
      "4                                                  dew\n",
      "dtype: object\n",
      "0    No matter who someone is, how they look like, ...\n",
      "1     Biden speech draws 38.2 million U.S. TV viewers \n",
      "2    State of the union Who watched the state of th...\n",
      "3               We Should Just Give Poor People Money \n",
      "4                                   Do it for the Dew \n",
      "dtype: object\n"
     ]
    }
   ],
   "source": [
    "stemmer = PorterStemmer()\n",
    "\n",
    "def stem_text(text):\n",
    "    tokens = nltk.word_tokenize(text)\n",
    "    stemmed_tokens = [stemmer.stem(token) for token in tokens]\n",
    "    stemmed_text = \" \".join(stemmed_tokens)\n",
    "    return stemmed_text\n",
    "\n",
    "text = text.apply(stem_text)\n",
    "comb = comb.apply(stem_text)\n",
    "print(comb.head())\n",
    "print(comb2.head())"
   ]
  },
  {
   "cell_type": "markdown",
   "id": "9e4a0513",
   "metadata": {},
   "source": [
    "cleaned text"
   ]
  },
  {
   "cell_type": "code",
   "execution_count": 83,
   "id": "3519abde",
   "metadata": {},
   "outputs": [],
   "source": [
    "x_train, x_test, y_train, y_test = train_test_split(text, d['is_depression'], test_size=0.2, random_state=42)\n",
    "\n",
    "# convert phrases into numerical vectors using TF-IDF\n",
    "vectorizer = TfidfVectorizer()\n",
    "x_train = vectorizer.fit_transform(x_train)\n",
    "x_test = vectorizer.transform(x_test)"
   ]
  },
  {
   "cell_type": "code",
   "execution_count": 84,
   "id": "7f7f1620",
   "metadata": {},
   "outputs": [
    {
     "data": {
      "text/plain": [
       "SVC(kernel='linear')"
      ]
     },
     "execution_count": 84,
     "metadata": {},
     "output_type": "execute_result"
    }
   ],
   "source": [
    "# train SVM model\n",
    "clf = SVC(kernel='linear', C=1.0)\n",
    "clf.fit(x_train, y_train)"
   ]
  },
  {
   "cell_type": "code",
   "execution_count": 85,
   "id": "5ec150b4",
   "metadata": {},
   "outputs": [
    {
     "name": "stdout",
     "output_type": "stream",
     "text": [
      "Accuracy: 0.9521654815772462\n",
      "Precision: 0.9563492063492064\n",
      "Recall: 0.9463350785340314\n",
      "F1 score: 0.9513157894736843\n"
     ]
    }
   ],
   "source": [
    "# evaluate SVM model\n",
    "y_pred = clf.predict(x_test)\n",
    "\n",
    "print('Accuracy:', accuracy_score(y_test, y_pred))\n",
    "print('Precision:', precision_score(y_test, y_pred))\n",
    "print('Recall:', recall_score(y_test, y_pred))\n",
    "print('F1 score:', f1_score(y_test, y_pred))"
   ]
  },
  {
   "cell_type": "code",
   "execution_count": 86,
   "id": "b0ddde02",
   "metadata": {},
   "outputs": [
    {
     "name": "stdout",
     "output_type": "stream",
     "text": [
      "[1 0 0 ... 0 0 0]\n"
     ]
    }
   ],
   "source": [
    "\n",
    "\n",
    "#x_new = vectorizer.transform(new_text)\n",
    "x_new = vectorizer.transform(comb)\n",
    "y_new_pred = clf.predict(x_new)\n",
    "\n",
    "print(y_new_pred)"
   ]
  },
  {
   "cell_type": "code",
   "execution_count": 87,
   "id": "e9a7ef30",
   "metadata": {},
   "outputs": [
    {
     "name": "stdout",
     "output_type": "stream",
     "text": [
      "10.56%\n"
     ]
    }
   ],
   "source": [
    "print(f\"{(sum(y_new_pred) / len(comb)) * 100:.2f}%\")"
   ]
  },
  {
   "cell_type": "code",
   "execution_count": 93,
   "id": "4593e261",
   "metadata": {},
   "outputs": [
    {
     "name": "stdout",
     "output_type": "stream",
     "text": [
      "12854\n",
      "1358\n"
     ]
    }
   ],
   "source": [
    "print(len(y_new_pred))\n",
    "print(sum(y_new_pred))"
   ]
  },
  {
   "cell_type": "code",
   "execution_count": 95,
   "id": "9919e195",
   "metadata": {},
   "outputs": [],
   "source": [
    "conserv_count = 0\n",
    "liberal_count = 0\n",
    "\n",
    "\n",
    "for i in range(len(y_new_pred)):\n",
    "    if y_new_pred[i] == 1:\n",
    "        if(p.loc[i,'Political Lean'] == \"Conservative\"):\n",
    "            conserv_count = conserv_count + 1\n",
    "        elif(p.loc[i,'Political Lean'] == \"Liberal\"):\n",
    "            liberal_count = liberal_count + 1\n",
    "            \n",
    "\n",
    "            "
   ]
  },
  {
   "cell_type": "code",
   "execution_count": 104,
   "id": "3c850997",
   "metadata": {},
   "outputs": [
    {
     "name": "stdout",
     "output_type": "stream",
     "text": [
      "Conservative Count\n",
      "463 out of 8319\n",
      "5.57%\n",
      "Liberal Count\n",
      "895 out of 4535\n",
      "19.74%\n"
     ]
    }
   ],
   "source": [
    "print(\"Conservative Count\")            \n",
    "print(str(conserv_count) + \" out of \" + str(len(p[p['Political Lean'] == 'Liberal'])))\n",
    "print(f\"{conserv_count / len(p[p['Political Lean'] == 'Liberal']) * 100:.2f}%\")\n",
    "print(\"Liberal Count\")\n",
    "print(str(liberal_count) + \" out of \" + str(len(p[p['Political Lean'] == 'Conservative'])))\n",
    "print(f\"{liberal_count / len(p[p['Political Lean'] == 'Conservative']) * 100:.2f}%\")\n",
    "\n"
   ]
  }
 ],
 "metadata": {
  "kernelspec": {
   "display_name": "Python 3 (ipykernel)",
   "language": "python",
   "name": "python3"
  },
  "language_info": {
   "codemirror_mode": {
    "name": "ipython",
    "version": 3
   },
   "file_extension": ".py",
   "mimetype": "text/x-python",
   "name": "python",
   "nbconvert_exporter": "python",
   "pygments_lexer": "ipython3",
   "version": "3.9.13"
  },
  "vscode": {
   "interpreter": {
    "hash": "84d98050c291fbabc1a867c10b51e932498cf5095538e7bdaecff4b39fb1caa1"
   }
  }
 },
 "nbformat": 4,
 "nbformat_minor": 5
}
